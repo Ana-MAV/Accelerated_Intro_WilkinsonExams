{
 "cells": [
  {
   "cell_type": "markdown",
   "metadata": {},
   "source": [
    "# Answers to Exam 1\n",
    "Ana-Mariya Anhel Valdes"
   ]
  },
  {
   "cell_type": "markdown",
   "metadata": {},
   "source": [
    "<pre>\n",
    "\n",
    "\n",
    "\n",
    "</pre>\n",
    "## Problem 2"
   ]
  },
  {
   "cell_type": "code",
   "execution_count": null,
   "metadata": {
    "scrolled": true
   },
   "outputs": [],
   "source": [
    "dir -lh"
   ]
  },
  {
   "cell_type": "markdown",
   "metadata": {},
   "source": [
    "The **dir** command has some attributes:\n",
    " * **-l** we have a list of the files/folders in the current folder with their permissions, ownerships, size, ...\n",
    "     In this case of Locus_Germplasm_Phenotype_20130122, the owner is osboxes and the group that the owner belongs is osboxes. It has the power of read (-r) and write (-w) the file. The group osboxes have the same permissions as the owner, and any user has the power of read the file, but not write on it.\n",
    "     \n",
    " * **-h** gives us the size of the file/folder in a human readeable size, and not in bytes\n",
    "     For example, the size of Locus_Germplasm_Phenotype_20130122.txt is 1.2 Megabytes"
   ]
  },
  {
   "cell_type": "markdown",
   "metadata": {},
   "source": [
    "<pre>\n",
    "\n",
    "\n",
    "\n",
    "</pre>\n",
    "## Problem 3"
   ]
  },
  {
   "cell_type": "code",
   "execution_count": null,
   "metadata": {},
   "outputs": [],
   "source": [
    "head -1 Locus_Germplasm_Phenotype_20130122.txt"
   ]
  },
  {
   "cell_type": "markdown",
   "metadata": {},
   "source": [
    "With the command head we can see the first 10 lines, but if we provide the argument __-x__ (being x a number), we will only see the first x lines of the file, and that is why we have provide the argument __-1__"
   ]
  },
  {
   "cell_type": "markdown",
   "metadata": {},
   "source": [
    "<pre>\n",
    "\n",
    "\n",
    "\n",
    "</pre>\n",
    "## Problem 4"
   ]
  },
  {
   "cell_type": "code",
   "execution_count": null,
   "metadata": {
    "scrolled": true
   },
   "outputs": [],
   "source": [
    "wc -l Locus_Germplasm_Phenotype_20130122.txt"
   ]
  },
  {
   "cell_type": "markdown",
   "metadata": {},
   "source": [
    "The **wc** command with the argument **-l** will give us the number of lines in a file"
   ]
  },
  {
   "cell_type": "markdown",
   "metadata": {},
   "source": [
    "<pre>\n",
    "\n",
    "\n",
    "\n",
    "</pre>\n",
    "## Problem 5"
   ]
  },
  {
   "cell_type": "code",
   "execution_count": null,
   "metadata": {},
   "outputs": [],
   "source": [
    "tail -7215 Locus_Germplasm_Phenotype_20130122.txt > Data_Only.csv\n",
    "wc -l Data_Only.csv"
   ]
  },
  {
   "cell_type": "markdown",
   "metadata": {},
   "source": [
    "Because we know that the file Locus have 7216 lines and the first one is the headers, we can obtain all the other lines with **tail -7215**, and direct the output of that command to the file Data_only.csv with **>**"
   ]
  },
  {
   "cell_type": "markdown",
   "metadata": {},
   "source": [
    "<pre>\n",
    "\n",
    "\n",
    "\n",
    "</pre>\n",
    "## Problem 6\n",
    "\n",
    "The results of this problem has been developed in collaboration with:\n",
    " * Ismael Sánchez Pareja\n",
    " * Javier Fernández González"
   ]
  },
  {
   "cell_type": "code",
   "execution_count": null,
   "metadata": {},
   "outputs": [],
   "source": [
    "head -5 Data_Only.csv"
   ]
  },
  {
   "cell_type": "markdown",
   "metadata": {},
   "source": [
    "This command is only for having a view of the text structure."
   ]
  },
  {
   "cell_type": "code",
   "execution_count": null,
   "metadata": {},
   "outputs": [],
   "source": [
    "grep -P -ina '\\w+\\t.+\\t.*[,|;|\\s\\s|\\s]root[,|;|\\s].+\\t\\d+' Data_Only.csv"
   ]
  },
  {
   "cell_type": "markdown",
   "metadata": {},
   "source": [
    "We use the command grep to seach a pattern in a text. We provide several attributes:\n",
    " * __-P__ because we want to use the regular expressions as in the Perl language, mainly for the use of **\\t** to search for tabs\n",
    " * __-i__ so can be case insensitive\n",
    " * __-n__ so we can have the line number of the match\n",
    " * __-a__ because it could have been produced in a Windows or a Linux system\n",
    "\n",
    "First we match the locus gene column (**\\w+**) (due to the fact that not all the entries are AT... we have used this pattern), a tab (**\\t**), the germplasm name (**.+**), another tab, any character 0 or more times (__.\\*__) because root can be at the beginning of phenotype; some punctuactions signs or a white space (\\[,|;|.|\\s\\s|\\s\\]), the word root, and then some punctuaction signs or white space again. This way, it will match \"root,\", \";root\", \". Root\", but not \"roots\" or \"something-root\". Then, we match anything, a tab and the last column, the digits.\n",
    "\n",
    "Matching all the sentence will delete from our answer lines that are only spaces."
   ]
  },
  {
   "cell_type": "markdown",
   "metadata": {},
   "source": [
    "<pre>\n",
    "\n",
    "\n",
    "\n",
    "</pre>\n",
    "## Problem 7"
   ]
  },
  {
   "cell_type": "code",
   "execution_count": null,
   "metadata": {},
   "outputs": [],
   "source": [
    "grep -P -ia '\\w+\\t.+\\t.*[,|;|\\s\\s|\\s]root[,|;|\\s].+\\t\\d+' Data_Only.csv | grep -P -ao '^\\w+\\t' | grep -E -ao '\\w+' > Root-associated-Loci.txt"
   ]
  },
  {
   "cell_type": "markdown",
   "metadata": {},
   "source": [
    "We do the grep from the problem 6 (without the -n argument to not have the number of line in th eoutput) to obtain the genes in the database which contain the word \"root\" in their phenotype column. Its output is sent to another grep which will only match the AGI Locus Code. We use the sign \"^\" to search at the beginning of the line. Finally, because we needed the first column, we do a third grep to delete from the input the tab.\n",
    "\n",
    "We provide the argument -o to the second and third grep to obtain only the match and not the whole line.\n",
    "\n",
    "The result of the sequential 3 greps is sent to the file \"Root-associated-Loci.txt\" through **>**"
   ]
  },
  {
   "cell_type": "markdown",
   "metadata": {},
   "source": [
    "<pre>\n",
    "\n",
    "\n",
    "\n",
    "</pre>\n",
    "## Problem 8"
   ]
  },
  {
   "cell_type": "code",
   "execution_count": null,
   "metadata": {},
   "outputs": [],
   "source": [
    "grep -P -ia '\\w+\\t.+\\t.*[,|;|\\s\\s|\\s]root[,|;|\\s].+\\t\\d+' Data_Only.csv | grep -E -iao '[0-9]+$' > Root-associated-Publications.txt"
   ]
  },
  {
   "cell_type": "markdown",
   "metadata": {},
   "source": [
    "We do the grep from the problem 6 to obtain the genes in the database which contain the word \"root\" in their phenotype column. Its output is sent to another grep which will only match the Pubmed ID according to the description provided in the introduction of the exam.\n",
    "\n",
    "We use the sign **$** to search at the end of the line because the PubMed ID is the last column.\n",
    "\n",
    "We provide the argument __-o__ to the second and third grep to obtain only the match and not the whole line.\n",
    "\n",
    "The result of the sequential 3 greps is sent to the file \"Root-associated-Publications.txt\" through **>**"
   ]
  },
  {
   "cell_type": "markdown",
   "metadata": {},
   "source": [
    "<pre>\n",
    "\n",
    "\n",
    "\n",
    "</pre>\n",
    "## Problem 9"
   ]
  },
  {
   "cell_type": "code",
   "execution_count": null,
   "metadata": {
    "scrolled": false
   },
   "outputs": [],
   "source": [
    "grep -E -iao 'at[1-5]' Root-associated-Loci.txt | grep -E -ao '[1-5]' > chromosomes_roots.txt"
   ]
  },
  {
   "cell_type": "code",
   "execution_count": null,
   "metadata": {},
   "outputs": [],
   "source": [
    "echo \"Following the ATxGxxxxx pattern:\"\n",
    "echo \"Number of genes associated with chromosome 1 \"\n",
    "grep '1' chromosomes_roots.txt | wc -l\n",
    "echo \"Number of genes associated with chromosome 2 \"\n",
    "grep '2' chromosomes_roots.txt | wc -l\n",
    "echo \"Number of genes associated with chromosome 3 \"\n",
    "grep '3' chromosomes_roots.txt | wc -l\n",
    "echo \"Number of genes associated with chromosome 4 \"\n",
    "grep '4' chromosomes_roots.txt | wc -l\n",
    "echo \"Number of genes associated with chromosome 5 \"\n",
    "grep '5' chromosomes_roots.txt | wc -l"
   ]
  },
  {
   "cell_type": "markdown",
   "metadata": {},
   "source": [
    "We have the AGI Locus Code in Root-associated-Loci.txt.\n",
    "\n",
    "We search for the chromosome number of the Loci, which is the third character of each line. We sent it to the file chromosomes_roots.txt (because the output of only the greps commands is very large in the notebook)\n",
    "\n",
    "We used the **echo** command to make the output a little more beautiful"
   ]
  },
  {
   "cell_type": "markdown",
   "metadata": {},
   "source": [
    "<pre>\n",
    "\n",
    "\n",
    "\n",
    "</pre>\n",
    "## Problem 10"
   ]
  },
  {
   "cell_type": "markdown",
   "metadata": {},
   "source": [
    "There are root-associated genes in every chromosome, so I will skip this problem :)"
   ]
  }
 ],
 "metadata": {
  "kernelspec": {
   "display_name": "Bash",
   "language": "bash",
   "name": "bash"
  },
  "language_info": {
   "codemirror_mode": "shell",
   "file_extension": ".sh",
   "mimetype": "text/x-sh",
   "name": "bash"
  }
 },
 "nbformat": 4,
 "nbformat_minor": 2
}
